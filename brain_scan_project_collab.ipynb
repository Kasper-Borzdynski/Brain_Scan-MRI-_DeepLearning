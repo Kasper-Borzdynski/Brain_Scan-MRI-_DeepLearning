{
  "nbformat": 4,
  "nbformat_minor": 0,
  "metadata": {
    "colab": {
      "name": "Copy of Opis projektu z przykładowym kodem",
      "provenance": [],
      "collapsed_sections": [],
      "toc_visible": true
    },
    "kernelspec": {
      "name": "python3",
      "display_name": "Python 3"
    }
  },
  "cells": [
    {
      "cell_type": "markdown",
      "metadata": {
        "id": "GRWP5WsckPry"
      },
      "source": [
        "# Cel projektu\n",
        "Celem projektu jest przygotowanie metody obcinającej czaszki (skull stripping) na obrazach sekwencji typu T1 rezonansu magnetycznego (MRI) głowy. Metoda powinna z surowego skanu pacjenta wyodrębnić cały obszar zajmowany przez właściwy mózg, pomijając kości, inne tkanki miękkie itp. - ilustracja na rysunku poniżej:\n",
        "![](https://www.researchgate.net/profile/Dario_Pompili/publication/309402865/figure/fig1/AS:420915604148224@1477365508110/Skull-stripping-steps-A-input-images-B-brain-contouring-and-C-removal-of.png)\n",
        "\n",
        "Poniżej znajduje się przykładowy kod pobierający, rozpakowujący oraz wczytujący dane do macierzy `numpy` o trzech wymiarach. Dodatkowo załączona jest funkcja wizualizująca środkowe slice'y (przekroje) w każdej z trzech osi macierzy.\n"
      ]
    },
    {
      "cell_type": "markdown",
      "metadata": {
        "id": "gTGGE5CHn1ja"
      },
      "source": [
        "# Przykładowy kod z opisami"
      ]
    },
    {
      "cell_type": "code",
      "metadata": {
        "id": "ufx9v8FO9fAU",
        "colab": {
          "base_uri": "https://localhost:8080/",
          "height": 111
        },
        "outputId": "164f9a51-0d44-42b1-9fb8-662373c19e2c"
      },
      "source": [
        "!pip install --upgrade nibabel"
      ],
      "execution_count": null,
      "outputs": [
        {
          "output_type": "stream",
          "text": [
            "Requirement already up-to-date: nibabel in /usr/local/lib/python3.6/dist-packages (3.1.0)\n",
            "Requirement already satisfied, skipping upgrade: numpy>=1.13 in /usr/local/lib/python3.6/dist-packages (from nibabel) (1.18.4)\n",
            "Requirement already satisfied, skipping upgrade: packaging>=14.3 in /usr/local/lib/python3.6/dist-packages (from nibabel) (20.4)\n",
            "Requirement already satisfied, skipping upgrade: six in /usr/local/lib/python3.6/dist-packages (from packaging>=14.3->nibabel) (1.12.0)\n",
            "Requirement already satisfied, skipping upgrade: pyparsing>=2.0.2 in /usr/local/lib/python3.6/dist-packages (from packaging>=14.3->nibabel) (2.4.7)\n"
          ],
          "name": "stdout"
        }
      ]
    },
    {
      "cell_type": "code",
      "metadata": {
        "id": "MucIjWr7h9aD",
        "colab": {
          "base_uri": "https://localhost:8080/"
        },
        "outputId": "263654d6-066d-4752-c37a-07989f233b18"
      },
      "source": [
        "!rm -r FirstDataset\n",
        "!rm -r SecondDataset\n",
        "!wget \"link hidden, data is not public\"\n",
        "!unzip -q public.zip\n",
        "!rm public.zip"
      ],
      "execution_count": 1,
      "outputs": [
        {
          "output_type": "stream",
          "text": [
            "rm: cannot remove 'FirstDataset': No such file or directory\n",
            "rm: cannot remove 'SecondDataset': No such file or directory\n",
            "--2021-01-29 19:45:31--  https://putpoznanpl-my.sharepoint.com/:u:/g/personal/dominik_pieczynski_put_poznan_pl/EWIZ_xm8wXpMjQDgF2VQ1csB4QuHPKoj5vDpj6CQi9p-AA?e=yQr6fn&download=1\n",
            "Resolving putpoznanpl-my.sharepoint.com (putpoznanpl-my.sharepoint.com)... 13.107.136.9\n",
            "Connecting to putpoznanpl-my.sharepoint.com (putpoznanpl-my.sharepoint.com)|13.107.136.9|:443... connected.\n",
            "HTTP request sent, awaiting response... 302 Found\n",
            "Location: /personal/dominik_pieczynski_put_poznan_pl/Documents/Public.zip?originalPath=aHR0cHM6Ly9wdXRwb3puYW5wbC1teS5zaGFyZXBvaW50LmNvbS86dTovZy9wZXJzb25hbC9kb21pbmlrX3BpZWN6eW5za2lfcHV0X3Bvem5hbl9wbC9FV0laX3htOHdYcE1qUURnRjJWUTFjc0I0UXVIUEtvajV2RHBqNkNRaTlwLUFBP3J0aW1lPU1OU0JjSTdFMkVn [following]\n",
            "--2021-01-29 19:45:32--  https://putpoznanpl-my.sharepoint.com/personal/dominik_pieczynski_put_poznan_pl/Documents/Public.zip?originalPath=aHR0cHM6Ly9wdXRwb3puYW5wbC1teS5zaGFyZXBvaW50LmNvbS86dTovZy9wZXJzb25hbC9kb21pbmlrX3BpZWN6eW5za2lfcHV0X3Bvem5hbl9wbC9FV0laX3htOHdYcE1qUURnRjJWUTFjc0I0UXVIUEtvajV2RHBqNkNRaTlwLUFBP3J0aW1lPU1OU0JjSTdFMkVn\n",
            "Reusing existing connection to putpoznanpl-my.sharepoint.com:443.\n",
            "HTTP request sent, awaiting response... 200 OK\n",
            "Length: 5672415949 (5.3G) [application/x-zip-compressed]\n",
            "Saving to: ‘public.zip’\n",
            "\n",
            "public.zip           41%[=======>            ]   2.18G  45.0MB/s    eta 62s    ^C\n",
            "[public.zip]\n",
            "  End-of-central-directory signature not found.  Either this file is not\n",
            "  a zipfile, or it constitutes one disk of a multi-part archive.  In the\n",
            "  latter case the central directory and zipfile comment will be found on\n",
            "  the last disk(s) of this archive.\n",
            "unzip:  cannot find zipfile directory in one of public.zip or\n",
            "        public.zip.zip, and cannot find public.zip.ZIP, period.\n"
          ],
          "name": "stdout"
        }
      ]
    },
    {
      "cell_type": "code",
      "metadata": {
        "id": "IhQgP833qHEJ",
        "colab": {
          "base_uri": "https://localhost:8080/",
          "height": 131
        },
        "outputId": "53fd5127-e79a-448e-f280-34be6149dad1"
      },
      "source": [
        "from google.colab import drive\n",
        "drive.mount('/content/drive')"
      ],
      "execution_count": null,
      "outputs": [
        {
          "output_type": "stream",
          "text": [
            "Go to this URL in a browser: https://accounts.google.com/o/oauth2/auth?client_id=947318989803-6bn6qk8qdgf4n4g3pfee6491hc0brc4i.apps.googleusercontent.com&redirect_uri=urn%3aietf%3awg%3aoauth%3a2.0%3aoob&response_type=code&scope=email%20https%3a%2f%2fwww.googleapis.com%2fauth%2fdocs.test%20https%3a%2f%2fwww.googleapis.com%2fauth%2fdrive%20https%3a%2f%2fwww.googleapis.com%2fauth%2fdrive.photos.readonly%20https%3a%2f%2fwww.googleapis.com%2fauth%2fpeopleapi.readonly\n",
            "\n",
            "Enter your authorization code:\n",
            "··········\n",
            "Mounted at /content/drive\n"
          ],
          "name": "stdout"
        }
      ]
    },
    {
      "cell_type": "code",
      "metadata": {
        "id": "Ldzwp9sJ53sd",
        "colab": {
          "base_uri": "https://localhost:8080/",
          "height": 166
        },
        "outputId": "a1a7b759-5822-4c30-ff65-300e6ce9235b"
      },
      "source": [
        "!rm -r /content/drive/My Drive/imgzpo/ximage\n",
        "!rm -r /content/drive/My Drive/imgzpo/xlabel\n",
        "!mkdir /content/drive/My Drive/imgzpo/ximage\n",
        "!mkdir /content/drive/My Drive/imgzpo/xlabel"
      ],
      "execution_count": null,
      "outputs": [
        {
          "output_type": "stream",
          "text": [
            "rm: cannot remove '/content/drive/My': No such file or directory\n",
            "rm: cannot remove 'Drive/imgzpo/ximage': No such file or directory\n",
            "rm: cannot remove '/content/drive/My': No such file or directory\n",
            "rm: cannot remove 'Drive/imgzpo/xlabel': No such file or directory\n",
            "mkdir: cannot create directory ‘/content/drive/My’: Operation not supported\n",
            "mkdir: cannot create directory ‘Drive/imgzpo/ximage’: No such file or directory\n",
            "mkdir: cannot create directory ‘/content/drive/My’: Operation not supported\n",
            "mkdir: cannot create directory ‘Drive/imgzpo/xlabel’: No such file or directory\n"
          ],
          "name": "stdout"
        }
      ]
    },
    {
      "cell_type": "code",
      "metadata": {
        "id": "UCopYmv6iKQM"
      },
      "source": [
        "!pip install --upgrade nibabel"
      ],
      "execution_count": null,
      "outputs": []
    },
    {
      "cell_type": "code",
      "metadata": {
        "id": "YhtaEJBmijlZ"
      },
      "source": [
        "import numpy as np\n",
        "import nibabel as nib\n",
        "import cv2\n",
        "from typing import Tuple, List\n",
        "from pathlib import Path\n",
        "import os\n",
        "from google.colab.patches import cv2_imshow\n",
        "import matplotlib.pyplot as plt\n",
        "\n",
        "def load_raw_volume(path: Path) -> Tuple[np.ndarray, np.ndarray]:\n",
        "  data: nib.Nifti1Image = nib.load(str(path))\n",
        "  data = nib.as_closest_canonical(data)\n",
        "  raw_data = data.get_fdata(caching='unchanged', dtype=np.float32)\n",
        "  return raw_data, data.affine\n",
        "\n",
        "\n",
        "def load_labels_volume(path: Path) -> np.ndarray:\n",
        "  return load_raw_volume(path)[0].astype(np.uint8)\n",
        "\n",
        "\n",
        "def save_labels(data: np.ndarray, affine: np.ndarray, path: Path):\n",
        "  nib.save(nib.Nifti1Image(data, affine), str(path))\n",
        "\n",
        "\n",
        "def show_slices(slices: List[np.ndarray]):\n",
        "   fig, axes = plt.subplots(1, len(slices))\n",
        "   for i, data_slice in enumerate(slices):\n",
        "       axes[i].imshow(data_slice.T, cmap=\"gray\", origin=\"lower\")"
      ],
      "execution_count": null,
      "outputs": []
    },
    {
      "cell_type": "code",
      "metadata": {
        "id": "WDR0NAYjvWAy"
      },
      "source": [
        "\n",
        "\n",
        "raw_volume, affine = load_raw_volume('/content/FirstDataset/train/e66ce7e96b277d7d1b8835e5d2c94cd6.nii.gz')\n",
        "mask_volume = load_labels_volume('/content/FirstDataset/train/e66ce7e96b277d7d1b8835e5d2c94cd6_mask.nii.gz')\n",
        "\n",
        "show_slices([raw_volume[raw_volume.shape[0] // 2], # Środkowy slice 2D w osi x\n",
        "             raw_volume[:, raw_volume.shape[1] // 2], # Środkowy slice 2D w osi y\n",
        "             raw_volume[:, :, raw_volume.shape[2] // 2]]) # Środkowy slice 2D w osi z\n",
        "\n",
        "show_slices([mask_volume[mask_volume.shape[0] // 2], # Środkowy slice 2D w osi x\n",
        "             mask_volume[:, mask_volume.shape[1] // 2], # Środkowy slice 2D w osi y\n",
        "             mask_volume[:, :, mask_volume.shape[2] // 2]]) # Środkowy slice 2D w osi z\n"
      ],
      "execution_count": null,
      "outputs": []
    },
    {
      "cell_type": "code",
      "metadata": {
        "id": "NRdBy4OZ8-hr"
      },
      "source": [
        "\n",
        "\n",
        "first_dataset_path = Path('/content/FirstDataset/train')\n",
        "second_dataset_path = Path('/content/SecondDataset/train')\n",
        "savepoint = Path('/content/drive/My Drive/imgzpo')\n",
        "fixcolor = Path('/content/drive/My Drive/imgzpo/x/images/images')\n",
        "\n",
        "# Zmienna affine zawiera macierz, która będzie potrzebna przy zapisie predykcji do pliku\n",
        "\n",
        "\n",
        "for dir in os.listdir(second_dataset_path):\n",
        "  next_path = os.path.join(second_dataset_path,dir)\n",
        "  for file in os.listdir(next_path):\n",
        "    if 'mask.nii.gz' in file:\n",
        "      mask_volume = load_labels_volume(str(next_path)+'/'+str(file))\n",
        "      for i in range(20,140,20):\n",
        "        mask = mask_volume[i,:,:]\n",
        "        plt.imsave(str(savepoint)+'/x/labels/labels/'+str(dir)+str(i)+'.png',mask,cmap=\"gray\", vmin=0, vmax=1)\n",
        "    else:\n",
        "      raw_volume, affine = load_raw_volume(str(next_path)+'/'+str(file))\n",
        "      for i in range(20,140,20):\n",
        "        raw = raw_volume[i,:,:]\n",
        "        plt.imsave(str(savepoint)+'/x/images/images/'+str(dir)+str(i)+'.png',raw,cmap=\"gray\")\n",
        "\n",
        "\n",
        "for i, file in enumerate(os.listdir(first_dataset_path)):\n",
        "    if file.endswith('mask.nii.gz'):\n",
        "      mask_volume = load_labels_volume(str(first_dataset_path)+'/'+str(file))\n",
        "      for i in range(20,140,20):\n",
        "        mask = mask_volume[i,:,:]\n",
        "        plt.imsave(str(savepoint)+'/x/labels/labels/'+str(file)+str(i)+'.png',mask, cmap=\"gray\", vmin=0, vmax=1)\n",
        "    elif file.endswith('nii.gz'):\n",
        "      raw_volume, affine = load_raw_volume(str(first_dataset_path)+'/'+str(file))\n",
        "      for i in range(20,140,20):\n",
        "        raw = raw_volume[i,:,:]\n",
        "        plt.imsave(str(savepoint)+'/x/images/images/'+str(file)+str(i)+'.png',raw, cmap=\"gray\")\n"
      ],
      "execution_count": null,
      "outputs": []
    },
    {
      "cell_type": "code",
      "metadata": {
        "id": "DhzJO136G-Ud",
        "colab": {
          "base_uri": "https://localhost:8080/",
          "height": 468
        },
        "outputId": "6e942580-7207-4fd2-f43f-4dda49ae015c"
      },
      "source": [
        "!pip install segmentation_models"
      ],
      "execution_count": null,
      "outputs": [
        {
          "output_type": "stream",
          "text": [
            "Collecting segmentation_models\n",
            "  Downloading https://files.pythonhosted.org/packages/da/b9/4a183518c21689a56b834eaaa45cad242d9ec09a4360b5b10139f23c63f4/segmentation_models-1.0.1-py3-none-any.whl\n",
            "Collecting efficientnet==1.0.0\n",
            "  Downloading https://files.pythonhosted.org/packages/97/82/f3ae07316f0461417dc54affab6e86ab188a5a22f33176d35271628b96e0/efficientnet-1.0.0-py3-none-any.whl\n",
            "Requirement already satisfied: keras-applications<=1.0.8,>=1.0.7 in /usr/local/lib/python3.6/dist-packages (from segmentation_models) (1.0.8)\n",
            "Collecting image-classifiers==1.0.0\n",
            "  Downloading https://files.pythonhosted.org/packages/81/98/6f84720e299a4942ab80df5f76ab97b7828b24d1de5e9b2cbbe6073228b7/image_classifiers-1.0.0-py3-none-any.whl\n",
            "Requirement already satisfied: scikit-image in /usr/local/lib/python3.6/dist-packages (from efficientnet==1.0.0->segmentation_models) (0.16.2)\n",
            "Requirement already satisfied: h5py in /usr/local/lib/python3.6/dist-packages (from keras-applications<=1.0.8,>=1.0.7->segmentation_models) (2.10.0)\n",
            "Requirement already satisfied: numpy>=1.9.1 in /usr/local/lib/python3.6/dist-packages (from keras-applications<=1.0.8,>=1.0.7->segmentation_models) (1.18.4)\n",
            "Requirement already satisfied: imageio>=2.3.0 in /usr/local/lib/python3.6/dist-packages (from scikit-image->efficientnet==1.0.0->segmentation_models) (2.4.1)\n",
            "Requirement already satisfied: matplotlib!=3.0.0,>=2.0.0 in /usr/local/lib/python3.6/dist-packages (from scikit-image->efficientnet==1.0.0->segmentation_models) (3.2.1)\n",
            "Requirement already satisfied: PyWavelets>=0.4.0 in /usr/local/lib/python3.6/dist-packages (from scikit-image->efficientnet==1.0.0->segmentation_models) (1.1.1)\n",
            "Requirement already satisfied: scipy>=0.19.0 in /usr/local/lib/python3.6/dist-packages (from scikit-image->efficientnet==1.0.0->segmentation_models) (1.4.1)\n",
            "Requirement already satisfied: networkx>=2.0 in /usr/local/lib/python3.6/dist-packages (from scikit-image->efficientnet==1.0.0->segmentation_models) (2.4)\n",
            "Requirement already satisfied: pillow>=4.3.0 in /usr/local/lib/python3.6/dist-packages (from scikit-image->efficientnet==1.0.0->segmentation_models) (7.0.0)\n",
            "Requirement already satisfied: six in /usr/local/lib/python3.6/dist-packages (from h5py->keras-applications<=1.0.8,>=1.0.7->segmentation_models) (1.12.0)\n",
            "Requirement already satisfied: cycler>=0.10 in /usr/local/lib/python3.6/dist-packages (from matplotlib!=3.0.0,>=2.0.0->scikit-image->efficientnet==1.0.0->segmentation_models) (0.10.0)\n",
            "Requirement already satisfied: kiwisolver>=1.0.1 in /usr/local/lib/python3.6/dist-packages (from matplotlib!=3.0.0,>=2.0.0->scikit-image->efficientnet==1.0.0->segmentation_models) (1.2.0)\n",
            "Requirement already satisfied: python-dateutil>=2.1 in /usr/local/lib/python3.6/dist-packages (from matplotlib!=3.0.0,>=2.0.0->scikit-image->efficientnet==1.0.0->segmentation_models) (2.8.1)\n",
            "Requirement already satisfied: pyparsing!=2.0.4,!=2.1.2,!=2.1.6,>=2.0.1 in /usr/local/lib/python3.6/dist-packages (from matplotlib!=3.0.0,>=2.0.0->scikit-image->efficientnet==1.0.0->segmentation_models) (2.4.7)\n",
            "Requirement already satisfied: decorator>=4.3.0 in /usr/local/lib/python3.6/dist-packages (from networkx>=2.0->scikit-image->efficientnet==1.0.0->segmentation_models) (4.4.2)\n",
            "Installing collected packages: efficientnet, image-classifiers, segmentation-models\n",
            "Successfully installed efficientnet-1.0.0 image-classifiers-1.0.0 segmentation-models-1.0.1\n"
          ],
          "name": "stdout"
        }
      ]
    },
    {
      "cell_type": "code",
      "metadata": {
        "id": "kx0bRYYN0kNp"
      },
      "source": [
        "import tensorflow as tf\n",
        "from tensorflow.keras import layers\n",
        "import segmentation_models as sm\n",
        "from tensorflow import keras\n",
        "from PIL import Image\n",
        "\n",
        "\n",
        "datagen_params = dict(\n",
        "    validation_split=0.15,\n",
        "\n",
        "    vertical_flip=True,\n",
        "    rescale = 1 / 255\n",
        ")\n",
        "\n",
        "images_datagen = tf.keras.preprocessing.image.ImageDataGenerator(\n",
        "    **datagen_params\n",
        ")\n",
        "\n",
        "masks_datagen = tf.keras.preprocessing.image.ImageDataGenerator(\n",
        "    **datagen_params\n",
        ")\n",
        "\n",
        "target_size = (256,256)\n",
        "\n",
        "input_images_generator = images_datagen.flow_from_directory(\n",
        "    '/content/drive/My Drive/imgzpo/x/images/',\n",
        "    target_size=target_size,\n",
        "    batch_size=128,\n",
        "    class_mode=None,\n",
        "    seed=42,\n",
        "    subset='training'\n",
        ")\n",
        "\n",
        "input_masks_generator = masks_datagen.flow_from_directory(\n",
        "    '/content/drive/My Drive/imgzpo/x/labels/',\n",
        "    target_size=target_size,\n",
        "    batch_size=128,\n",
        "    class_mode=None,\n",
        "    seed=42,\n",
        "    subset='training'\n",
        ")\n",
        "\n",
        "val_images_generator = images_datagen.flow_from_directory(\n",
        "    '/content/drive/My Drive/imgzpo/x/images/',\n",
        "    target_size=target_size,\n",
        "    batch_size=128,\n",
        "    class_mode=None,\n",
        "    seed=42,\n",
        "    subset='validation'\n",
        ")\n",
        "\n",
        "val_masks_generator = masks_datagen.flow_from_directory(\n",
        "    '/content/drive/My Drive/imgzpo/x/labels/',\n",
        "    target_size=(target_size),\n",
        "    batch_size=128,\n",
        "    class_mode=None,\n",
        "    seed=42,\n",
        "    subset='validation'\n",
        ")\n",
        "\n",
        "train_combined_generator = zip(input_images_generator, input_masks_generator)\n",
        "validation_combined_generator = zip(val_images_generator, val_masks_generator)"
      ],
      "execution_count": null,
      "outputs": []
    },
    {
      "cell_type": "code",
      "metadata": {
        "id": "s_I3tW2-K5WV"
      },
      "source": [
        "def down_block(x, filters, kernel_size=(3,3), padding=\"same\", strides=1):\n",
        "  c = keras.layers.Conv2D(filters,kernel_size,padding=padding,strides=strides,activation=\"relu\")(x)\n",
        "  c = keras.layers.Conv2D(filters,kernel_size,padding=padding,strides=strides,activation=\"relu\")(c)\n",
        "  p = keras.layers.MaxPool2D((2,2), (2,2))(c)\n",
        "  return c,p\n",
        "\n",
        "def up_block(x,skip,filters,kernel_size=(3,3), padding=\"same\", strides=1):\n",
        "  us = keras.layers.UpSampling2D((2,2))(x)\n",
        "  concat = keras.layers.Concatenate()([us,skip])\n",
        "  c = keras.layers.Conv2D(filters,kernel_size,padding=padding,strides=strides,activation=\"relu\")(concat)\n",
        "  c = keras.layers.Conv2D(filters, kernel_size, padding=padding, strides=strides,activation=\"relu\")(c)\n",
        "  return c \n",
        "\n",
        "def bottleneck(x, filters, kernel_size=(3,3), padding=\"same\", strides=1):\n",
        "  c = keras.layers.Conv2D(filters, kernel_size, padding=padding, strides=strides,activation=\"relu\")(x)\n",
        "  c = keras.layers.Conv2D(filters, kernel_size, padding=padding, strides=strides,activation=\"relu\")(c)\n",
        "  return c"
      ],
      "execution_count": null,
      "outputs": []
    },
    {
      "cell_type": "code",
      "metadata": {
        "id": "E6FMD-Qj98ft"
      },
      "source": [
        "def Unet():\n",
        "  f = [8,16,32,64,128,256]\n",
        "  inputs = keras.layers.Input((256,256,3))\n",
        "\n",
        "  p0 = inputs\n",
        "  c1,p1 = down_block(p0,f[0]) # \n",
        "  c2,p2 = down_block(p1,f[1]) #\n",
        "  c3,p3 = down_block(p2,f[2]) #\n",
        "  c4,p4 = down_block(p3,f[3]) #\n",
        "  c5,p5 = down_block(p4,f[4]) #\n",
        "\n",
        "  bn = bottleneck(p5, f[5])\n",
        "\n",
        "  u1 = up_block(bn, c5, f[4]) #\n",
        "  u2 = up_block(u1, c4, f[3]) #\n",
        "  u3 = up_block(u2, c3, f[2]) #\n",
        "  u4 = up_block(u3, c2, f[1]) #\n",
        "  u5 = up_block(u4,c1,f[0]) #\n",
        "\n",
        "  outputs = keras.layers.Conv2D(1,(3,3), padding=\"same\", activation=\"sigmoid\")(u5)\n",
        "  model = keras.models.Model(inputs,outputs)\n",
        "  return model"
      ],
      "execution_count": null,
      "outputs": []
    },
    {
      "cell_type": "code",
      "metadata": {
        "id": "YMBgAi9BNqo-",
        "colab": {
          "base_uri": "https://localhost:8080/",
          "height": 227
        },
        "outputId": "1df0f49e-35cb-4f25-e781-0a91982664d4"
      },
      "source": [
        "model = Unet()\n",
        "loss = sm.losses.DiceLoss()\n",
        "model.compile(optimizer=tf.keras.optimizers.Adam(lr=1e-3), loss=\"binary_crossentropy\", metrics=[\"acc\"])\n",
        "model.summary()"
      ],
      "execution_count": 2,
      "outputs": [
        {
          "output_type": "error",
          "ename": "NameError",
          "evalue": "ignored",
          "traceback": [
            "\u001b[0;31m---------------------------------------------------------------------------\u001b[0m",
            "\u001b[0;31mNameError\u001b[0m                                 Traceback (most recent call last)",
            "\u001b[0;32m<ipython-input-2-cad223ce5724>\u001b[0m in \u001b[0;36m<module>\u001b[0;34m()\u001b[0m\n\u001b[0;32m----> 1\u001b[0;31m \u001b[0mmodel\u001b[0m \u001b[0;34m=\u001b[0m \u001b[0mUnet\u001b[0m\u001b[0;34m(\u001b[0m\u001b[0;34m)\u001b[0m\u001b[0;34m\u001b[0m\u001b[0;34m\u001b[0m\u001b[0m\n\u001b[0m\u001b[1;32m      2\u001b[0m \u001b[0mloss\u001b[0m \u001b[0;34m=\u001b[0m \u001b[0msm\u001b[0m\u001b[0;34m.\u001b[0m\u001b[0mlosses\u001b[0m\u001b[0;34m.\u001b[0m\u001b[0mDiceLoss\u001b[0m\u001b[0;34m(\u001b[0m\u001b[0;34m)\u001b[0m\u001b[0;34m\u001b[0m\u001b[0;34m\u001b[0m\u001b[0m\n\u001b[1;32m      3\u001b[0m \u001b[0mmodel\u001b[0m\u001b[0;34m.\u001b[0m\u001b[0mcompile\u001b[0m\u001b[0;34m(\u001b[0m\u001b[0moptimizer\u001b[0m\u001b[0;34m=\u001b[0m\u001b[0mtf\u001b[0m\u001b[0;34m.\u001b[0m\u001b[0mkeras\u001b[0m\u001b[0;34m.\u001b[0m\u001b[0moptimizers\u001b[0m\u001b[0;34m.\u001b[0m\u001b[0mAdam\u001b[0m\u001b[0;34m(\u001b[0m\u001b[0mlr\u001b[0m\u001b[0;34m=\u001b[0m\u001b[0;36m1e-3\u001b[0m\u001b[0;34m)\u001b[0m\u001b[0;34m,\u001b[0m \u001b[0mloss\u001b[0m\u001b[0;34m=\u001b[0m\u001b[0;34m\"binary_crossentropy\"\u001b[0m\u001b[0;34m,\u001b[0m \u001b[0mmetrics\u001b[0m\u001b[0;34m=\u001b[0m\u001b[0;34m[\u001b[0m\u001b[0;34m\"acc\"\u001b[0m\u001b[0;34m]\u001b[0m\u001b[0;34m)\u001b[0m\u001b[0;34m\u001b[0m\u001b[0;34m\u001b[0m\u001b[0m\n\u001b[1;32m      4\u001b[0m \u001b[0mmodel\u001b[0m\u001b[0;34m.\u001b[0m\u001b[0msummary\u001b[0m\u001b[0;34m(\u001b[0m\u001b[0;34m)\u001b[0m\u001b[0;34m\u001b[0m\u001b[0;34m\u001b[0m\u001b[0m\n",
            "\u001b[0;31mNameError\u001b[0m: name 'Unet' is not defined"
          ]
        }
      ]
    },
    {
      "cell_type": "code",
      "metadata": {
        "id": "UZ573qjMQQcd",
        "colab": {
          "base_uri": "https://localhost:8080/",
          "height": 788
        },
        "outputId": "c04c71a4-dbb9-455f-f5ae-baa93c1f67f7"
      },
      "source": [
        "training_samples = input_images_generator.n\n",
        "validation_samples = val_images_generator.n\n",
        "\n",
        "model.fit(\n",
        "  train_combined_generator,\n",
        "  steps_per_epoch=training_samples//128,\n",
        "  epochs=20,\n",
        "  validation_data=validation_combined_generator, \n",
        "  validation_steps=validation_samples//128\n",
        ")"
      ],
      "execution_count": null,
      "outputs": [
        {
          "output_type": "stream",
          "text": [
            "Epoch 1/20\n",
            "15/15 [==============================] - 2556s 170s/step - loss: 0.5496 - acc: 0.8576 - val_loss: 0.3353 - val_acc: 0.8604\n",
            "Epoch 2/20\n",
            "15/15 [==============================] - 718s 48s/step - loss: 0.2179 - acc: 0.8621 - val_loss: 0.1691 - val_acc: 0.8633\n",
            "Epoch 3/20\n",
            "15/15 [==============================] - 740s 49s/step - loss: 0.1606 - acc: 0.8629 - val_loss: 0.1506 - val_acc: 0.8601\n",
            "Epoch 4/20\n",
            "15/15 [==============================] - 722s 48s/step - loss: 0.1532 - acc: 0.8618 - val_loss: 0.2009 - val_acc: 0.8613\n",
            "Epoch 5/20\n",
            "15/15 [==============================] - 690s 46s/step - loss: 0.1678 - acc: 0.8618 - val_loss: 0.1577 - val_acc: 0.8610\n",
            "Epoch 6/20\n",
            "15/15 [==============================] - 694s 46s/step - loss: 0.1428 - acc: 0.9312 - val_loss: 0.1381 - val_acc: 0.9576\n",
            "Epoch 7/20\n",
            "15/15 [==============================] - 697s 46s/step - loss: 0.1473 - acc: 0.9571 - val_loss: 0.1482 - val_acc: 0.9567\n",
            "Epoch 8/20\n",
            "15/15 [==============================] - 693s 46s/step - loss: 0.1351 - acc: 0.9630 - val_loss: 0.1315 - val_acc: 0.9643\n",
            "Epoch 9/20\n",
            "15/15 [==============================] - 708s 47s/step - loss: 0.1285 - acc: 0.9702 - val_loss: 0.1277 - val_acc: 0.9687\n",
            "Epoch 10/20\n",
            "15/15 [==============================] - 704s 47s/step - loss: 0.1150 - acc: 0.9673 - val_loss: 0.1282 - val_acc: 0.9712\n",
            "Epoch 11/20\n",
            "15/15 [==============================] - 700s 47s/step - loss: 0.0890 - acc: 0.9706 - val_loss: 0.0666 - val_acc: 0.9720\n",
            "Epoch 12/20\n",
            "15/15 [==============================] - 705s 47s/step - loss: 0.0617 - acc: 0.9740 - val_loss: 0.0608 - val_acc: 0.9741\n",
            "Epoch 13/20\n",
            "15/15 [==============================] - 702s 47s/step - loss: 0.0543 - acc: 0.9771 - val_loss: 0.0517 - val_acc: 0.9781\n",
            "Epoch 14/20\n",
            "15/15 [==============================] - 705s 47s/step - loss: 0.0481 - acc: 0.9798 - val_loss: 0.0482 - val_acc: 0.9796\n",
            "Epoch 15/20\n",
            "15/15 [==============================] - 702s 47s/step - loss: 0.0445 - acc: 0.9815 - val_loss: 0.0452 - val_acc: 0.9819\n",
            "Epoch 16/20\n",
            "15/15 [==============================] - 712s 47s/step - loss: 0.0385 - acc: 0.9841 - val_loss: 0.0368 - val_acc: 0.9853\n",
            "Epoch 17/20\n",
            "15/15 [==============================] - 711s 47s/step - loss: 0.0357 - acc: 0.9853 - val_loss: 0.0375 - val_acc: 0.9849\n",
            "Epoch 18/20\n",
            "15/15 [==============================] - 723s 48s/step - loss: 0.0314 - acc: 0.9872 - val_loss: 0.0325 - val_acc: 0.9870\n",
            "Epoch 19/20\n",
            "15/15 [==============================] - 753s 50s/step - loss: 0.0281 - acc: 0.9885 - val_loss: 0.0276 - val_acc: 0.9891\n",
            "Epoch 20/20\n",
            "15/15 [==============================] - 759s 51s/step - loss: 0.0257 - acc: 0.9896 - val_loss: 0.0287 - val_acc: 0.9889\n"
          ],
          "name": "stdout"
        },
        {
          "output_type": "execute_result",
          "data": {
            "text/plain": [
              "<tensorflow.python.keras.callbacks.History at 0x7f2ada035ef0>"
            ]
          },
          "metadata": {
            "tags": []
          },
          "execution_count": 18
        }
      ]
    },
    {
      "cell_type": "code",
      "metadata": {
        "id": "kCQO1lI4SL2N",
        "colab": {
          "base_uri": "https://localhost:8080/",
          "height": 36
        },
        "outputId": "cf02de22-0912-4ef3-c916-b0355b47b30e"
      },
      "source": [
        "model.save_weights(\"/content/drive/My Drive/imgzpo/finalxmodel/unet.hp\")\n",
        "model.save('/content/drive/My Drive/imgzpo/finalxmodel/')"
      ],
      "execution_count": null,
      "outputs": [
        {
          "output_type": "stream",
          "text": [
            "INFO:tensorflow:Assets written to: /content/drive/My Drive/imgzpo/finalxmodel/assets\n"
          ],
          "name": "stdout"
        }
      ]
    },
    {
      "cell_type": "code",
      "metadata": {
        "id": "xe7xnyCy3W41"
      },
      "source": [
        "loaded = tf.keras.models.load_model('/content/drive/My Drive/imgzpo/finalxmodel/')\n"
      ],
      "execution_count": null,
      "outputs": []
    },
    {
      "cell_type": "code",
      "metadata": {
        "id": "ibRph5aajiWA",
        "colab": {
          "base_uri": "https://localhost:8080/",
          "height": 433
        },
        "outputId": "5498f8a8-bb44-422c-9a76-f5472a965654"
      },
      "source": [
        "raw_volume, affine = load_raw_volume('/content/FirstDataset/train/011e40c2b1d3c9bb53bd9e5a7efd04ba.nii.gz')\n",
        "mask_volume = load_labels_volume('/content/FirstDataset/train/011e40c2b1d3c9bb53bd9e5a7efd04ba_mask.nii.gz')\n",
        "\n",
        "show_slices([raw_volume[raw_volume.shape[0] // 2], # Środkowy slice 2D w osi x\n",
        "             raw_volume[:, raw_volume.shape[1] // 2], # Środkowy slice 2D w osi y\n",
        "             raw_volume[:, :, raw_volume.shape[2] // 2]]) # Środkowy slice 2D w osi z\n",
        "\n",
        "show_slices([mask_volume[mask_volume.shape[0] // 2], # Środkowy slice 2D w osi x\n",
        "             mask_volume[:, mask_volume.shape[1] // 2], # Środkowy slice 2D w osi y\n",
        "             mask_volume[:, :, mask_volume.shape[2] // 2]]) # Środkowy slice 2D w osi z\n",
        "\n"
      ],
      "execution_count": null,
      "outputs": [
        {
          "output_type": "stream",
          "text": [
            "WARNING:tensorflow:From /usr/local/lib/python3.6/dist-packages/tensorflow/python/ops/resource_variable_ops.py:1817: calling BaseResourceVariable.__init__ (from tensorflow.python.ops.resource_variable_ops) with constraint is deprecated and will be removed in a future version.\n",
            "Instructions for updating:\n",
            "If using Keras pass *_constraint arguments to layers.\n",
            "INFO:tensorflow:Assets written to: /content/drive/My Drive/imgzpo/xweights/model/assets\n"
          ],
          "name": "stdout"
        },
        {
          "output_type": "display_data",
          "data": {
            "image/png": "[encoded data removed]",
            "text/plain": [
              "<Figure size 432x288 with 3 Axes>"
            ]
          },
          "metadata": {
            "tags": [],
            "needs_background": "light"
          }
        },
        {
          "output_type": "display_data",
          "data": {
            "image/png": "[encoded data removed]",
            "text/plain": [
              "<Figure size 432x288 with 3 Axes>"
            ]
          },
          "metadata": {
            "tags": [],
            "needs_background": "light"
          }
        }
      ]
    },
    {
      "cell_type": "code",
      "metadata": {
        "id": "Pp2LZ1BG3Vhg",
        "colab": {
          "base_uri": "https://localhost:8080/",
          "height": 260
        },
        "outputId": "960a0ace-25f4-46b0-c9dc-e04ab54ee31a"
      },
      "source": [
        "\n",
        "# raw_volume, affine = load_raw_volume('/content/FirstDataset/test/026719ab1b8e2af45a41ee5b629a12bd.nii.gz')\n",
        "# plt.imsave('/content/drive/My Drive/imgzpo/test/testx1.png', raw_volume[raw_volume.shape[0] // 2], cmap=\"gray\")\n",
        "\n",
        "test = plt.imread('/content/drive/My Drive/imgzpo/test/testx1.png')\n",
        "test = cv2.resize(test,(256,256)).astype(np.float32)\n",
        "test = cv2.cvtColor(test, cv2.COLOR_BGRA2BGR)\n",
        "#plt.imshow(test)\n",
        "print(test.shape[0])\n",
        "\n",
        "result = loaded.predict(test[None,:])\n",
        "result = result.squeeze()\n",
        "print(result.shape)\n",
        "#plt.imshow(result)\n",
        "\n",
        "label = np.zeros(result.shape,dtype=np.uint8)\n",
        "label[result >0.4] = 1\n",
        "label[label != 1] = 0\n",
        "#plt.imshow(label)\n",
        "\n",
        "fig, axes = plt.subplots(1, 2)\n",
        "axes[0].imshow(label)\n",
        "axes[1].imshow(test)\n"
      ],
      "execution_count": null,
      "outputs": [
        {
          "output_type": "stream",
          "text": [
            "256\n",
            "(256, 256)\n"
          ],
          "name": "stdout"
        },
        {
          "output_type": "execute_result",
          "data": {
            "text/plain": [
              "<matplotlib.image.AxesImage at 0x7f0ac704c390>"
            ]
          },
          "metadata": {
            "tags": []
          },
          "execution_count": 16
        },
        {
          "output_type": "display_data",
          "data": {
            "image/png": "[encoded data removed]",
            "text/plain": [
              "<Figure size 432x288 with 2 Axes>"
            ]
          },
          "metadata": {
            "tags": [],
            "needs_background": "light"
          }
        }
      ]
    },
    {
      "cell_type": "code",
      "metadata": {
        "id": "99KEaQFOcmkF"
      },
      "source": [
        "# Sprawdźmy rozmiar wokseli\n",
        "\n",
        "for scan_path in first_dataset_path.iterdir():\n",
        "  if scan_path.name.endswith('mask.nii.gz'):\n",
        "    print(nib.load(str(scan_path)).header.get_zooms())\n",
        "\n",
        "\n",
        "for scan_path in second_dataset_path.iterdir():\n",
        "  print(nib.load(str(scan_path / 'T1w.nii.gz')).header.get_zooms())\n"
      ],
      "execution_count": null,
      "outputs": []
    },
    {
      "cell_type": "markdown",
      "metadata": {
        "id": "qggEmUr1WTBD"
      },
      "source": [
        "Fizyczne rozmiary wokseli są do siebie podobne - raczej nie musimy nic robić z różnicami rzędu 0.2 - 0.3 mm. Alternatywą byłoby wykorzystanie na przykład funkcji `zoom` z biblioteki `scipy` (uwaga - jest wolna). Obecne tutaj różnice mogą nawet paradoksalnie poprawić generalizację sieci.\n",
        "\n",
        "Na tym etapie należy podzielić dane (najprawdopodobniej ścieżki do nich po wczytaniu ich listy w Pythonie) na zbiór treningowy i walidacyjny, a następnie wyeksportować podzielone dane do dwuwymiarowych obrazów - najlepiej w bezstratnym formacie PNG.\n",
        "\n",
        "Sugerowany jest podział na zbiór treningowy i walidacyjny już w wyeksportowanych danych na dysku, ale można go oczywiście realizować podczas wczytywania ścieżek danych do uczenia w kodzie źródłowym. Zachęcamy do eksperymentów, ale zaznaczamy, że zazwyczaj lepiej jest przenosić do zbioru walidacyjnego całe skany, a nie losowe przekroje. Przeniesienie losowych przekrojów powoduje, że sieć jest walidowana na fragmencie skanu, którego inne fragmenty są w zbiorze treningowym - mamy gorszą kontrolę przeuczenia, ale z drugiej strony sieć \"widzi\" podczas treningu więcej różnych skanów.\n",
        "\n",
        "Przy eksporcie wymagane będzie przeiterowanie się po obu zbiorach danych, wczytywanie kolejnych skanów do pamięci (jak wyżej, ale z wykorzystaniem załączonych funkcji wczytujących), a następnie eksport danych w wybranej osi. Kopię wyeksportowanych danych warto umieścić na podmontowanym Dysku Google. W sytuacji wygaśnięcia sesji Colaba umożliwi to ich późniejsze przekopiowanie na maszynę docelową bez powtarzania procesu eksportu.\n",
        "\n",
        "Po wyeksportowaniu danych można wykorzystać podejście znane z instrukcji dotyczącej segmentacji. Można testować różne przekroje danych (ostateczne podejście nie musi wcale być jedną siecią - można nauczyć modele dla każdego przekroju), różne modele sieci neuronowych (w tym z pretreningiem i bez), różne loss functions, różne learning rates, różne augmentacje, różne rodzaje normalizacji danych itd.\n",
        "\n",
        "Po wytrenowaniu ostatecznego modelu można wygenerować predykcje dla zbioru testowego. Poniżej znajduje się ogólnikowy przykład generowania predykcji."
      ]
    },
    {
      "cell_type": "code",
      "metadata": {
        "id": "yt_fCVbyVqQV"
      },
      "source": [
        "predictions_base_path = Path('/content/drive/My Drive/imgzpo/Predictions')\n",
        "first_dataset_predictions_path = predictions_base_path / 'first'\n",
        "second_dataset_predictions_path = predictions_base_path / 'second'\n",
        "\n",
        "first_dataset_predictions_path.mkdir(exist_ok=True, parents=True)\n",
        "second_dataset_predictions_path.mkdir(exist_ok=True, parents=True)\n"
      ],
      "execution_count": null,
      "outputs": []
    },
    {
      "cell_type": "code",
      "metadata": {
        "id": "4_ekZQzSkD3G"
      },
      "source": [
        "first_dataset_test_path = Path('/content/FirstDataset/test')\n",
        "second_dataset_test_path = Path('/content/SecondDataset/test')\n",
        "\n",
        "for scan_path in first_dataset_test_path.iterdir():\n",
        "  data, affine = load_raw_volume(scan_path)\n",
        "  labels = np.zeros(data.shape, dtype=np.uint8)\n",
        "\n",
        "  x_slice,y_slice,z_slice = data.shape\n",
        "\n",
        "  for i in range(data.shape[0]):\n",
        "    cut_data = data[i,:,:]\n",
        "    plt.imsave(str(first_dataset_predictions_path)+'/'+'tmp.png',cut_data,cmap=\"gray\")\n",
        "\n",
        "    _data = plt.imread(str(first_dataset_predictions_path)+'/'+'tmp.png')\n",
        "    _data = cv2.resize(_data,(256,256)).astype(np.float32)\n",
        "    _data = cv2.cvtColor(_data, cv2.COLOR_BGRA2BGR)\n",
        "\n",
        "    result = loaded.predict(_data[None,:])\n",
        "    result = result.squeeze()\n",
        "\n",
        "    label = np.zeros(result.shape,dtype=np.uint8)\n",
        "    label[result >0.5] = 1\n",
        "    label[label != 1] = 0\n",
        "    label = cv2.resize(label, (cut_data.shape[1],cut_data.shape[0])).astype(np.uint8)\n",
        "    labels[i,:,:] = label\n",
        "\n",
        "  # Tutaj należy przeiterować się na przykład po jednej z osi, wykonać predykcję dla każdego przekroju i wpisać do macierzy labels\n",
        "  # UWAGA - maska powinna zawierać jedynie wartości 0 i 1\n",
        "  # UWAGA - predykcje są liczbami zmiennoprzecinkowymi z zakresu 0 do 1 - należy je zbinaryzować wybierając jakiś próg (na przykład 0.5)\n",
        "  \n",
        "  save_labels(labels, affine, first_dataset_predictions_path / f'{scan_path.name}')\n",
        "\n",
        "for scan_path in second_dataset_test_path.iterdir():\n",
        "  data, affine = load_raw_volume(scan_path / 'T1w.nii.gz')\n",
        "  labels = np.zeros(data.shape, dtype=np.uint8)\n",
        "\n",
        "  for i in range(data.shape[0]):\n",
        "    cut_data = data[i,:,:]\n",
        "    plt.imsave('/content/drive/My Drive/imgzpo/tmp.png',cut_data,cmap=\"gray\")\n",
        "\n",
        "    _data = plt.imread('/content/drive/My Drive/imgzpo/tmp.png')\n",
        "    _data = cv2.resize(_data,(256,256)).astype(np.float32)\n",
        "    _data = cv2.cvtColor(_data, cv2.COLOR_BGRA2BGR)\n",
        "\n",
        "    result = loaded.predict(_data[None,:])\n",
        "    result = result.squeeze()\n",
        "\n",
        "    label = np.zeros(result.shape,dtype=np.uint8)\n",
        "    label[result >0.5] = 1\n",
        "    label[label != 1] = 0\n",
        "    label = cv2.resize(label, (cut_data.shape[1],cut_data.shape[0])).astype(np.uint8)\n",
        "    labels[i,:,:] = label\n",
        "\n",
        "  # Tutaj należy przeiterować się na przykład po jednej z osi, wykonać predykcję dla każdego przekroju i wpisać do macierzy labels\n",
        "  # UWAGA - maska powinna zawierać jedynie wartości 0 i 1\n",
        "  # UWAGA - predykcje są liczbami zmiennoprzecinkowymi z zakresu 0 do 1 - należy je zbinaryzować wybierając jakiś próg (na przykład 0.5)\n",
        "  \n",
        "  save_labels(labels, affine, second_dataset_predictions_path / f'{scan_path.name}.nii.gz')"
      ],
      "execution_count": null,
      "outputs": []
    },
    {
      "cell_type": "code",
      "metadata": {
        "id": "XRVEqXMGcoHp",
        "colab": {
          "base_uri": "https://localhost:8080/",
          "height": 1000
        },
        "outputId": "b93699d9-b711-4282-8fac-e7bf5115d987"
      },
      "source": [
        "import requests\n",
        "import zlib\n",
        "\n",
        "predictions_base_path = Path('/content/drive/My Drive/imgzpo/Predictions')\n",
        "first_dataset_predictions_path = predictions_base_path / 'first'\n",
        "second_dataset_predictions_path = predictions_base_path / 'second'\n",
        "\n",
        "\n",
        "for dataset_predictions_path in (first_dataset_predictions_path, second_dataset_predictions_path):\n",
        "  for prediction_path in dataset_predictions_path.iterdir():\n",
        "    prediction_name = prediction_path.name[:-7]  # Usuwanie '.nii.gz' z nazwy pliku\n",
        "    prediction = nib.load(str(prediction_path))\n",
        "\n",
        "    response = requests.post(f'http://vision.dpieczynski.pl:8080/{prediction_name}', data=zlib.compress(prediction.to_bytes()))\n",
        "    if response.status_code == 200:\n",
        "        print(dataset_predictions_path.name, prediction_path.name, response.json())\n",
        "    else:\n",
        "        print(f'Error processing prediction {dataset_predictions_path.name}/{prediction_name}: {response.text}')"
      ],
      "execution_count": null,
      "outputs": [
        {
          "output_type": "stream",
          "text": [
            "first 58a8d8769de9dff220a9f520d4a30b52.nii.gz {'dice': 0.9463737905452642, 'auc': 0.9831014004346307}\n",
            "first d0858c4acdecad0b89bae8e1c55ee92c.nii.gz {'dice': 0.9592380635334923, 'auc': 0.9887061310490455}\n",
            "first bde813ee1e995313a15263d7f2cb6ea3.nii.gz {'dice': 0.9297305692906384, 'auc': 0.9769087272663843}\n",
            "first 64051b3483da339bf5792b5820faf6ae.nii.gz {'dice': 0.957852297483282, 'auc': 0.9758688579021441}\n",
            "first 74754999f39999d6c84baaef2d710e85.nii.gz {'dice': 0.9607783776139093, 'auc': 0.9795093363173694}\n",
            "first a397a235d426b16ed9062ea5c3e8e734.nii.gz {'dice': 0.9578633659315214, 'auc': 0.9811480334532382}\n",
            "first a7973aaf43e08fd4ceaa47bcc57bebc2.nii.gz {'dice': 0.9642320842819501, 'auc': 0.9870227732642674}\n",
            "first befd2995b6337f1427a97c7f478821bc.nii.gz {'dice': 0.9615700493746762, 'auc': 0.9839220289353336}\n",
            "first 8af689e154c363a263c89943cfaa3e90.nii.gz {'dice': 0.9307252617945438, 'auc': 0.9821202169313668}\n",
            "first 822038956654005e13e96fda68b5c20e.nii.gz {'dice': 0.9496063405964702, 'auc': 0.9886180093491255}\n",
            "first 808a0c0f5078dd5bd27075bfebc9e44e.nii.gz {'dice': 0.9599235798260979, 'auc': 0.9774875970094499}\n",
            "first 67b0fa7c242e10a2ec7108d6088d2649.nii.gz {'dice': 0.9566991132671718, 'auc': 0.9898015061706137}\n",
            "first 65fd8f5f1e0e9b433a0f755b02a46b20.nii.gz {'dice': 0.9507641219424112, 'auc': 0.9717451416464116}\n",
            "first 11b2fda921661f5a244ad3838689d007.nii.gz {'dice': 0.9515191426999654, 'auc': 0.9836184670030527}\n",
            "first c6ef546fe22dc45dea342c8b3367dd1f.nii.gz {'dice': 0.9666813797146787, 'auc': 0.9827420482251875}\n",
            "first ac3fefaf4abbd6ab735fbd6ca6faa90c.nii.gz {'dice': 0.9616780167439775, 'auc': 0.9896255436829577}\n",
            "first 98c79e6138f2987f4f0b4d59e97bfcec.nii.gz {'dice': 0.9564643589553992, 'auc': 0.9907497935122206}\n",
            "first 54b2c785e49dd33b2dae34250442533e.nii.gz {'dice': 0.9272757024435003, 'auc': 0.9833534042626553}\n",
            "first 372af0b53b7ee53a6f53472ad88d8965.nii.gz {'dice': 0.9624757966965252, 'auc': 0.9847965471400426}\n",
            "first c7d234c933b39795d7ba4bf48265dc94.nii.gz {'dice': 0.9534201793579647, 'auc': 0.9767624169217418}\n",
            "first 1c3064790751e45d903399e9998af51b.nii.gz {'dice': 0.9554611092191971, 'auc': 0.9724804840213518}\n",
            "first 8da1504a4b42f0ec48de5ef7ffc5f2df.nii.gz {'dice': 0.9583378413974476, 'auc': 0.9899184316440998}\n",
            "first b2614e0e8776c9d6ee3fd75c01823185.nii.gz {'dice': 0.9466039733821526, 'auc': 0.9865051081243739}\n",
            "first f3c45360b3a12275c6148dce5ed3d8b5.nii.gz {'dice': 0.9487549443520825, 'auc': 0.9832359990439552}\n",
            "first 6bad4c29bf8709bfeb96be167d34b30f.nii.gz {'dice': 0.9482302636382618, 'auc': 0.9831770992821952}\n",
            "first ca84bd2d04360264741d3679f47929fc.nii.gz {'dice': 0.9557373735031235, 'auc': 0.9893555818250389}\n",
            "first 03453fb1d5c8eb73d501cbf2e913e9ef.nii.gz {'dice': 0.9592676117712783, 'auc': 0.9887494743860663}\n",
            "first 1fd6fd84052d08152830a735dc749965.nii.gz {'dice': 0.9328557624649565, 'auc': 0.9871216542579082}\n",
            "first 5b3cb52ff434faef2e26494927393d66.nii.gz {'dice': 0.9259442618355143, 'auc': 0.9831479300877463}\n",
            "first fb5eb2e9ce635a07365161ba4bc4437d.nii.gz {'dice': 0.9542885133890983, 'auc': 0.9822316144755158}\n",
            "first d68e8b4d18adcbd0d0deb7a783d70501.nii.gz {'dice': 0.9476069001050355, 'auc': 0.9796097205980602}\n",
            "first 3d477c3f6dbf4219c41c72ac0cdfc4a2.nii.gz {'dice': 0.9421620861585336, 'auc': 0.9842438699187932}\n",
            "first 507bf3dd77bb2f55e3977060fbe3c129.nii.gz {'dice': 0.9540552734211568, 'auc': 0.9888451732536384}\n",
            "first ae4c2fcb653e5b3ce978c783121722c8.nii.gz {'dice': 0.9376824052743608, 'auc': 0.9872162467704874}\n",
            "first ac8f97a9f9770c17894bffe2ceedba08.nii.gz {'dice': 0.9579889573045489, 'auc': 0.9856652937229217}\n",
            "first 2c10e47f4b17b611666ca076d7b04024.nii.gz {'dice': 0.9648806499280705, 'auc': 0.9829212064670164}\n",
            "first 9be1a6385279fcdfb613d0cdf73c00a7.nii.gz {'dice': 0.963001800180018, 'auc': 0.980444899029445}\n",
            "first de75b10a148f259ea64dfd9f43670586.nii.gz {'dice': 0.9482017461082509, 'auc': 0.9859255194831521}\n",
            "first 63fa3338a2cdce261fc044ed1afde7a4.nii.gz {'dice': 0.9575381152801501, 'auc': 0.9755049816963781}\n",
            "first d2cfba48dca87d009fe40df18e1a5207.nii.gz {'dice': 0.9413836807978819, 'auc': 0.9858796085404982}\n",
            "first 073ca51b6f1b2baa300ca47dbf10ea02.nii.gz {'dice': 0.947687475693265, 'auc': 0.9871639022686274}\n",
            "first 1745516560ec9e5ab461eb971ea00f29.nii.gz {'dice': 0.9590430616580766, 'auc': 0.9858298138278359}\n",
            "first 863e3c2fbf3d5751daf6767e62f851e1.nii.gz {'dice': 0.9363501867032098, 'auc': 0.9851827848882041}\n",
            "first 61f6bc0dedcfa12482c29cef8a9bd8d4.nii.gz {'dice': 0.957393080229475, 'auc': 0.9809278845574773}\n",
            "first d5394a622174b44af897d5e9d60c4739.nii.gz {'dice': 0.9508776441303688, 'auc': 0.9657284753276515}\n",
            "first 026719ab1b8e2af45a41ee5b629a12bd.nii.gz {'dice': 0.9575120082522826, 'auc': 0.98225949406548}\n",
            "first d2a6a50deb9f3d386778591259b5e531.nii.gz {'dice': 0.9622146329178984, 'auc': 0.9771115422073193}\n",
            "first 82922aea8b29f4daae228061912634f4.nii.gz {'dice': 0.9657363652167479, 'auc': 0.9860312460774617}\n",
            "first 1f405c35c19d7426131d8c8021ed7e3c.nii.gz {'dice': 0.9534400833319949, 'auc': 0.984894027159068}\n",
            "first 8651a1735cb38201e36845fdfa4cb388.nii.gz {'dice': 0.9459118172758172, 'auc': 0.9710130249149803}\n",
            "first af81e5dd9e754a5228915b85347d5aa6.nii.gz {'dice': 0.9532586856243241, 'auc': 0.9825828343244887}\n",
            "first 9e0d0d0f40e55e63cf8d218f559b162c.nii.gz {'dice': 0.9130638599734008, 'auc': 0.9758542215755776}\n",
            "first 3fff825c5d06080429479fd33b322550.nii.gz {'dice': 0.9595589640530732, 'auc': 0.9878166932145991}\n",
            "first 9ae8802dffab9bd218f1398a96f5e66e.nii.gz {'dice': 0.9494604123623163, 'auc': 0.9877515978486116}\n",
            "first 1992cabe5774b6abd050f8dc7c8247e9.nii.gz {'dice': 0.9630005942401154, 'auc': 0.9789310764536723}\n",
            "first 8c27a5e3e83e2e28bc52ca83291644f8.nii.gz {'dice': 0.9601581765957327, 'auc': 0.988388687264084}\n",
            "first 94596ee05f924881b9b11ded19933ca1.nii.gz {'dice': 0.9653285861470845, 'auc': 0.9896818753757471}\n",
            "first 3423ba333d3e07ba3492324dbe424827.nii.gz {'dice': 0.9570222879649576, 'auc': 0.9825887313338959}\n",
            "first f4e6789c61b7875a6e80e9f95372d2c8.nii.gz {'dice': 0.9670778854714855, 'auc': 0.9858216794214354}\n",
            "first ac847f569ea517e88242a22132b9948a.nii.gz {'dice': 0.962948021614138, 'auc': 0.9883953932888339}\n",
            "first 07651dc2bafb71d6f3de109a5610160f.nii.gz {'dice': 0.9621607146894572, 'auc': 0.9777549622947507}\n",
            "first 5751d91b1db319f0b0f5e27cdfb6e508.nii.gz {'dice': 0.9134778357915583, 'auc': 0.9817973928880495}\n",
            "first a8ba9927987a6a44a7b191b3af227cf8.nii.gz {'dice': 0.9432276096512884, 'auc': 0.9794105964916704}\n",
            "first 7b2f8a4a520230a3e0da62b9763730a5.nii.gz {'dice': 0.9599835822807421, 'auc': 0.9741242818139169}\n",
            "first 780913c65053b3d29a96856ecc02b654.nii.gz {'dice': 0.9491605760453583, 'auc': 0.982556275572304}\n",
            "first 9fd8ecf23ffc7da1c0708ea1428eba96.nii.gz {'dice': 0.9613374635201648, 'auc': 0.9865954808699909}\n",
            "first ecc8925dd637bd735564576cc2b69ef8.nii.gz {'dice': 0.9417230103367713, 'auc': 0.986708961550536}\n",
            "first c5226d116bf06fcda3bba8baf9e9229f.nii.gz {'dice': 0.9624199264571305, 'auc': 0.9810239446893404}\n",
            "first 6951d62abf9014b65a5f3e55540e1a26.nii.gz {'dice': 0.9323315195693551, 'auc': 0.9764497722446434}\n",
            "first a1386ad46e7593d154c7b231dc700f29.nii.gz {'dice': 0.8827347800723465, 'auc': 0.985584466451157}\n",
            "first 11a79c48577d879e9d52a874df3c0184.nii.gz {'dice': 0.9605139117795843, 'auc': 0.9781330606328485}\n",
            "first 91011ce77f5c743e1fbbc47564403a87.nii.gz {'dice': 0.9196741296678407, 'auc': 0.9851805631401722}\n",
            "second cc456c69000530d798613a1f011519e0.nii.gz {'dice': 0.9331975792339484, 'auc': 0.9812220481443169}\n",
            "second d908aee2150faa7920f7bbbd83970d64.nii.gz {'dice': 0.9690415466463631, 'auc': 0.9782297026517129}\n",
            "second 4b224b31929918d386dd156f7f74f5c6.nii.gz {'dice': 0.9636819758547324, 'auc': 0.9767403665149994}\n",
            "second 6f3b0a448096afaa1f819018ec464159.nii.gz {'dice': 0.9489157364693845, 'auc': 0.979481625019163}\n",
            "second 1bc70682de24f4e7d413edd7299f940f.nii.gz {'dice': 0.959266172214222, 'auc': 0.9873331124284441}\n",
            "second 2b90f842c682b9b4a168eb5a25781813.nii.gz {'dice': 0.9176916094510466, 'auc': 0.9878948889108787}\n",
            "second ff3a6f8e2661b6c0a647ebd12b3d7f6f.nii.gz {'dice': 0.959700420034225, 'auc': 0.9741371808934443}\n",
            "second 5454aea6c2a47b8694677a3e00aed8d6.nii.gz {'dice': 0.9475686073415474, 'auc': 0.9894521571347232}\n",
            "second 6cb25309b298e5245a7a15abc13dc9a8.nii.gz {'dice': 0.9628149339543858, 'auc': 0.9765252944249231}\n",
            "second a06bb217a2ab8fbc6288f4fecc19d60b.nii.gz {'dice': 0.9579885596769083, 'auc': 0.9879601557851907}\n",
            "second 24068246382d571daef98f9c7d9597c2.nii.gz {'dice': 0.9565740252068492, 'auc': 0.9778960635968359}\n",
            "second e617e373e5fd23d174f25a4c474885b8.nii.gz {'dice': 0.9603533629224992, 'auc': 0.9735642919820982}\n",
            "second 4b765a29d6ad086326602cc8cbdb5869.nii.gz {'dice': 0.9667605705103436, 'auc': 0.9814879209550428}\n",
            "second ce5bca72f1acd7a90b0750a95a2b63ec.nii.gz {'dice': 0.9020974076954427, 'auc': 0.981865210807728}\n",
            "second 72d89c7ce5b2d5f6575482107f4ed319.nii.gz {'dice': 0.9677795822239763, 'auc': 0.9895052073165475}\n",
            "second eb1f4503243c903552caeff4783aa7c8.nii.gz {'dice': 0.9516913431535128, 'auc': 0.9829829217940489}\n",
            "second 7847787252a27ab1a17ed933da875052.nii.gz {'dice': 0.9535572420219697, 'auc': 0.9790142142467931}\n",
            "second 1bf1d4078d06b4e0a372471234f62d83.nii.gz {'dice': 0.9481337808697538, 'auc': 0.9600261694194251}\n",
            "second 599401e6d3c9a0e13715dc2d707128a4.nii.gz {'dice': 0.9465915602488539, 'auc': 0.9837359742252648}\n",
            "second 1ece697ca1fad7831d38f8aee4a001e3.nii.gz {'dice': 0.9431082407362923, 'auc': 0.9880067726932827}\n",
            "second 691e0c744367b23efa5273c54db43f7c.nii.gz {'dice': 0.959028144082688, 'auc': 0.9788702340153468}\n",
            "second abee833d267e00022d68f2d6f8dde496.nii.gz {'dice': 0.9614487617016402, 'auc': 0.9734103111679795}\n",
            "second dbe06e3994cb4be7e8428aae75d533bf.nii.gz {'dice': 0.9618313749792643, 'auc': 0.9796219396945199}\n",
            "second 00e3519eae7d40246b89c4dec1f3c5f0.nii.gz {'dice': 0.9552070829214618, 'auc': 0.9773191151689794}\n",
            "second f02ba4b50c982c8eb092978dab220b34.nii.gz {'dice': 0.9634664139858308, 'auc': 0.9738660055478678}\n"
          ],
          "name": "stdout"
        }
      ]
    },
    {
      "cell_type": "markdown",
      "metadata": {
        "id": "IlYbQgdPnddh"
      },
      "source": [
        "Tak przygotowany katalog `Predictions` należy wgrać do systemu Moodle do oceny."
      ]
    }
  ]
}